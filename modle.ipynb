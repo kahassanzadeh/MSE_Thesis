{
 "cells": [
  {
   "cell_type": "code",
   "execution_count": 3,
   "metadata": {
    "pycharm": {
     "is_executing": true,
     "name": "#%%\n"
    }
   },
   "outputs": [],
   "source": [
    "import numpy as np\n",
    "import pandas as pd\n",
    "import matplotlib.pyplot as plt\n",
    "import seaborn as sns\n",
    "import statsmodels.api as sm"
   ]
  },
  {
   "cell_type": "code",
   "execution_count": 5,
   "metadata": {
    "pycharm": {
     "name": "#%%\n"
    }
   },
   "outputs": [
    {
     "name": "stderr",
     "output_type": "stream",
     "text": [
      "C:\\Users\\kamya\\AppData\\Local\\Temp\\ipykernel_3024\\1608507191.py:3: SettingWithCopyWarning: \n",
      "A value is trying to be set on a copy of a slice from a DataFrame\n",
      "\n",
      "See the caveats in the documentation: https://pandas.pydata.org/pandas-docs/stable/user_guide/indexing.html#returning-a-view-versus-a-copy\n",
      "  dataSt.dropna(inplace=True)\n"
     ]
    },
    {
     "data": {
      "text/html": [
       "<div>\n",
       "<style scoped>\n",
       "    .dataframe tbody tr th:only-of-type {\n",
       "        vertical-align: middle;\n",
       "    }\n",
       "\n",
       "    .dataframe tbody tr th {\n",
       "        vertical-align: top;\n",
       "    }\n",
       "\n",
       "    .dataframe thead th {\n",
       "        text-align: right;\n",
       "    }\n",
       "</style>\n",
       "<table border=\"1\" class=\"dataframe\">\n",
       "  <thead>\n",
       "    <tr style=\"text-align: right;\">\n",
       "      <th></th>\n",
       "      <th>Concentration</th>\n",
       "      <th>MaxWaveLength</th>\n",
       "      <th>MaxPeakAbs</th>\n",
       "      <th>time</th>\n",
       "      <th>Integral</th>\n",
       "      <th>-logc</th>\n",
       "    </tr>\n",
       "  </thead>\n",
       "  <tbody>\n",
       "    <tr>\n",
       "      <th>0</th>\n",
       "      <td>5</td>\n",
       "      <td>573</td>\n",
       "      <td>0.849</td>\n",
       "      <td>3</td>\n",
       "      <td>371.98</td>\n",
       "      <td>5.301030</td>\n",
       "    </tr>\n",
       "    <tr>\n",
       "      <th>1</th>\n",
       "      <td>10</td>\n",
       "      <td>695</td>\n",
       "      <td>0.832</td>\n",
       "      <td>3</td>\n",
       "      <td>425.36</td>\n",
       "      <td>5.000000</td>\n",
       "    </tr>\n",
       "    <tr>\n",
       "      <th>2</th>\n",
       "      <td>15</td>\n",
       "      <td>753</td>\n",
       "      <td>0.796</td>\n",
       "      <td>3</td>\n",
       "      <td>421.06</td>\n",
       "      <td>4.823909</td>\n",
       "    </tr>\n",
       "    <tr>\n",
       "      <th>3</th>\n",
       "      <td>20</td>\n",
       "      <td>757</td>\n",
       "      <td>0.799</td>\n",
       "      <td>3</td>\n",
       "      <td>417.11</td>\n",
       "      <td>4.698970</td>\n",
       "    </tr>\n",
       "    <tr>\n",
       "      <th>4</th>\n",
       "      <td>25</td>\n",
       "      <td>754</td>\n",
       "      <td>0.825</td>\n",
       "      <td>3</td>\n",
       "      <td>425.77</td>\n",
       "      <td>4.602060</td>\n",
       "    </tr>\n",
       "    <tr>\n",
       "      <th>...</th>\n",
       "      <td>...</td>\n",
       "      <td>...</td>\n",
       "      <td>...</td>\n",
       "      <td>...</td>\n",
       "      <td>...</td>\n",
       "      <td>...</td>\n",
       "    </tr>\n",
       "    <tr>\n",
       "      <th>108</th>\n",
       "      <td>80</td>\n",
       "      <td>754</td>\n",
       "      <td>0.881</td>\n",
       "      <td>3</td>\n",
       "      <td>409.93</td>\n",
       "      <td>4.096910</td>\n",
       "    </tr>\n",
       "    <tr>\n",
       "      <th>109</th>\n",
       "      <td>85</td>\n",
       "      <td>746</td>\n",
       "      <td>0.877</td>\n",
       "      <td>3</td>\n",
       "      <td>410.57</td>\n",
       "      <td>4.070581</td>\n",
       "    </tr>\n",
       "    <tr>\n",
       "      <th>110</th>\n",
       "      <td>90</td>\n",
       "      <td>749</td>\n",
       "      <td>0.891</td>\n",
       "      <td>3</td>\n",
       "      <td>412.83</td>\n",
       "      <td>4.045757</td>\n",
       "    </tr>\n",
       "    <tr>\n",
       "      <th>111</th>\n",
       "      <td>95</td>\n",
       "      <td>748</td>\n",
       "      <td>0.893</td>\n",
       "      <td>3</td>\n",
       "      <td>413.37</td>\n",
       "      <td>4.022276</td>\n",
       "    </tr>\n",
       "    <tr>\n",
       "      <th>112</th>\n",
       "      <td>100</td>\n",
       "      <td>752</td>\n",
       "      <td>0.846</td>\n",
       "      <td>3</td>\n",
       "      <td>401.54</td>\n",
       "      <td>4.000000</td>\n",
       "    </tr>\n",
       "  </tbody>\n",
       "</table>\n",
       "<p>113 rows × 6 columns</p>\n",
       "</div>"
      ],
      "text/plain": [
       "     Concentration  MaxWaveLength  MaxPeakAbs  time  Integral     -logc\n",
       "0                5            573       0.849     3    371.98  5.301030\n",
       "1               10            695       0.832     3    425.36  5.000000\n",
       "2               15            753       0.796     3    421.06  4.823909\n",
       "3               20            757       0.799     3    417.11  4.698970\n",
       "4               25            754       0.825     3    425.77  4.602060\n",
       "..             ...            ...         ...   ...       ...       ...\n",
       "108             80            754       0.881     3    409.93  4.096910\n",
       "109             85            746       0.877     3    410.57  4.070581\n",
       "110             90            749       0.891     3    412.83  4.045757\n",
       "111             95            748       0.893     3    413.37  4.022276\n",
       "112            100            752       0.846     3    401.54  4.000000\n",
       "\n",
       "[113 rows x 6 columns]"
      ]
     },
     "execution_count": 5,
     "metadata": {},
     "output_type": "execute_result"
    }
   ],
   "source": [
    "data = pd.read_csv('data.csv')\n",
    "dataSt = data[['Concentration','MaxWaveLength','MaxPeakAbs','time','Integral','-logc']]\n",
    "dataSt.dropna(inplace=True)\n",
    "dataSt"
   ]
  },
  {
   "cell_type": "code",
   "execution_count": 6,
   "metadata": {
    "pycharm": {
     "name": "#%%\n"
    }
   },
   "outputs": [
    {
     "name": "stderr",
     "output_type": "stream",
     "text": [
      "C:\\Users\\kamya\\AppData\\Local\\Temp\\ipykernel_3024\\494904925.py:1: SettingWithCopyWarning: \n",
      "A value is trying to be set on a copy of a slice from a DataFrame.\n",
      "Try using .loc[row_indexer,col_indexer] = value instead\n",
      "\n",
      "See the caveats in the documentation: https://pandas.pydata.org/pandas-docs/stable/user_guide/indexing.html#returning-a-view-versus-a-copy\n",
      "  dataSt['Apeak/A479'] = dataSt['MaxPeakAbs'] / data['479']\n"
     ]
    },
    {
     "data": {
      "text/html": [
       "<div>\n",
       "<style scoped>\n",
       "    .dataframe tbody tr th:only-of-type {\n",
       "        vertical-align: middle;\n",
       "    }\n",
       "\n",
       "    .dataframe tbody tr th {\n",
       "        vertical-align: top;\n",
       "    }\n",
       "\n",
       "    .dataframe thead th {\n",
       "        text-align: right;\n",
       "    }\n",
       "</style>\n",
       "<table border=\"1\" class=\"dataframe\">\n",
       "  <thead>\n",
       "    <tr style=\"text-align: right;\">\n",
       "      <th></th>\n",
       "      <th>Concentration</th>\n",
       "      <th>MaxWaveLength</th>\n",
       "      <th>MaxPeakAbs</th>\n",
       "      <th>time</th>\n",
       "      <th>Integral</th>\n",
       "      <th>-logc</th>\n",
       "      <th>Apeak/A479</th>\n",
       "    </tr>\n",
       "  </thead>\n",
       "  <tbody>\n",
       "    <tr>\n",
       "      <th>0</th>\n",
       "      <td>5</td>\n",
       "      <td>573</td>\n",
       "      <td>0.849</td>\n",
       "      <td>3</td>\n",
       "      <td>371.98</td>\n",
       "      <td>5.301030</td>\n",
       "      <td>1.250368</td>\n",
       "    </tr>\n",
       "    <tr>\n",
       "      <th>1</th>\n",
       "      <td>10</td>\n",
       "      <td>695</td>\n",
       "      <td>0.832</td>\n",
       "      <td>3</td>\n",
       "      <td>425.36</td>\n",
       "      <td>5.000000</td>\n",
       "      <td>1.410169</td>\n",
       "    </tr>\n",
       "    <tr>\n",
       "      <th>2</th>\n",
       "      <td>15</td>\n",
       "      <td>753</td>\n",
       "      <td>0.796</td>\n",
       "      <td>3</td>\n",
       "      <td>421.06</td>\n",
       "      <td>4.823909</td>\n",
       "      <td>1.421429</td>\n",
       "    </tr>\n",
       "    <tr>\n",
       "      <th>3</th>\n",
       "      <td>20</td>\n",
       "      <td>757</td>\n",
       "      <td>0.799</td>\n",
       "      <td>3</td>\n",
       "      <td>417.11</td>\n",
       "      <td>4.698970</td>\n",
       "      <td>1.450091</td>\n",
       "    </tr>\n",
       "    <tr>\n",
       "      <th>4</th>\n",
       "      <td>25</td>\n",
       "      <td>754</td>\n",
       "      <td>0.825</td>\n",
       "      <td>3</td>\n",
       "      <td>425.77</td>\n",
       "      <td>4.602060</td>\n",
       "      <td>1.478495</td>\n",
       "    </tr>\n",
       "    <tr>\n",
       "      <th>...</th>\n",
       "      <td>...</td>\n",
       "      <td>...</td>\n",
       "      <td>...</td>\n",
       "      <td>...</td>\n",
       "      <td>...</td>\n",
       "      <td>...</td>\n",
       "      <td>...</td>\n",
       "    </tr>\n",
       "    <tr>\n",
       "      <th>108</th>\n",
       "      <td>80</td>\n",
       "      <td>754</td>\n",
       "      <td>0.881</td>\n",
       "      <td>3</td>\n",
       "      <td>409.93</td>\n",
       "      <td>4.096910</td>\n",
       "      <td>1.776210</td>\n",
       "    </tr>\n",
       "    <tr>\n",
       "      <th>109</th>\n",
       "      <td>85</td>\n",
       "      <td>746</td>\n",
       "      <td>0.877</td>\n",
       "      <td>3</td>\n",
       "      <td>410.57</td>\n",
       "      <td>4.070581</td>\n",
       "      <td>1.733202</td>\n",
       "    </tr>\n",
       "    <tr>\n",
       "      <th>110</th>\n",
       "      <td>90</td>\n",
       "      <td>749</td>\n",
       "      <td>0.891</td>\n",
       "      <td>3</td>\n",
       "      <td>412.83</td>\n",
       "      <td>4.045757</td>\n",
       "      <td>1.778443</td>\n",
       "    </tr>\n",
       "    <tr>\n",
       "      <th>111</th>\n",
       "      <td>95</td>\n",
       "      <td>748</td>\n",
       "      <td>0.893</td>\n",
       "      <td>3</td>\n",
       "      <td>413.37</td>\n",
       "      <td>4.022276</td>\n",
       "      <td>1.764822</td>\n",
       "    </tr>\n",
       "    <tr>\n",
       "      <th>112</th>\n",
       "      <td>100</td>\n",
       "      <td>752</td>\n",
       "      <td>0.846</td>\n",
       "      <td>3</td>\n",
       "      <td>401.54</td>\n",
       "      <td>4.000000</td>\n",
       "      <td>1.723014</td>\n",
       "    </tr>\n",
       "  </tbody>\n",
       "</table>\n",
       "<p>113 rows × 7 columns</p>\n",
       "</div>"
      ],
      "text/plain": [
       "     Concentration  MaxWaveLength  MaxPeakAbs  time  Integral     -logc  \\\n",
       "0                5            573       0.849     3    371.98  5.301030   \n",
       "1               10            695       0.832     3    425.36  5.000000   \n",
       "2               15            753       0.796     3    421.06  4.823909   \n",
       "3               20            757       0.799     3    417.11  4.698970   \n",
       "4               25            754       0.825     3    425.77  4.602060   \n",
       "..             ...            ...         ...   ...       ...       ...   \n",
       "108             80            754       0.881     3    409.93  4.096910   \n",
       "109             85            746       0.877     3    410.57  4.070581   \n",
       "110             90            749       0.891     3    412.83  4.045757   \n",
       "111             95            748       0.893     3    413.37  4.022276   \n",
       "112            100            752       0.846     3    401.54  4.000000   \n",
       "\n",
       "     Apeak/A479  \n",
       "0      1.250368  \n",
       "1      1.410169  \n",
       "2      1.421429  \n",
       "3      1.450091  \n",
       "4      1.478495  \n",
       "..          ...  \n",
       "108    1.776210  \n",
       "109    1.733202  \n",
       "110    1.778443  \n",
       "111    1.764822  \n",
       "112    1.723014  \n",
       "\n",
       "[113 rows x 7 columns]"
      ]
     },
     "execution_count": 6,
     "metadata": {},
     "output_type": "execute_result"
    }
   ],
   "source": [
    "dataSt['Apeak/A479'] = dataSt['MaxPeakAbs'] / data['479']\n",
    "dataSt"
   ]
  },
  {
   "cell_type": "code",
   "execution_count": null,
   "metadata": {
    "pycharm": {
     "name": "#%%\n"
    }
   },
   "outputs": [],
   "source": [
    "sns.pairplot(data[['Concentration','time','Integral','MaxWaveLength']], diag_kind=\"kde\")"
   ]
  },
  {
   "cell_type": "code",
   "execution_count": null,
   "metadata": {
    "pycharm": {
     "name": "#%%\n"
    }
   },
   "outputs": [],
   "source": [
    "X = dataSt.iloc[:,[1,3,4,6]]\n",
    "y = dataSt.iloc[:,5]\n",
    "X"
   ]
  },
  {
   "cell_type": "code",
   "execution_count": null,
   "metadata": {
    "pycharm": {
     "name": "#%%\n"
    }
   },
   "outputs": [],
   "source": [
    "from sklearn.preprocessing import StandardScaler\n",
    "std = StandardScaler()\n",
    "X = std.fit_transform(X)\n",
    "y = std.fit_transform(np.array(y).reshape(113,1))\n",
    "X"
   ]
  },
  {
   "cell_type": "code",
   "execution_count": null,
   "metadata": {
    "pycharm": {
     "name": "#%%\n"
    }
   },
   "outputs": [],
   "source": [
    "from sklearn.model_selection import train_test_split\n",
    "X_train,X_test,y_train,y_test = train_test_split(X,y,test_size=0.2)"
   ]
  },
  {
   "cell_type": "code",
   "execution_count": null,
   "metadata": {
    "pycharm": {
     "name": "#%%\n"
    }
   },
   "outputs": [],
   "source": [
    "from keras import models,layers\n",
    "model = models.Sequential()\n",
    "model.add(layers.Dense(16,input_shape=(4,),activation='relu',kernel_initializer='normal'))\n",
    "model.add(layers.Dropout(0.1))\n",
    "model.add(layers.Dense(32,activation='relu'))\n",
    "model.add(layers.Dropout(0.1))\n",
    "model.add(layers.Dense(1))\n",
    "model.compile(loss='mean_squared_error',optimizer='adam')\n"
   ]
  },
  {
   "cell_type": "code",
   "execution_count": null,
   "metadata": {
    "pycharm": {
     "name": "#%%\n"
    }
   },
   "outputs": [],
   "source": [
    "model.fit(X_train,y_train,epochs=64,batch_size=16)"
   ]
  },
  {
   "cell_type": "code",
   "execution_count": null,
   "metadata": {
    "pycharm": {
     "name": "#%%\n"
    }
   },
   "outputs": [],
   "source": [
    "from sklearn.metrics import r2_score\n",
    "pred_train = model.predict(X_train)\n",
    "print(r2_score(y_train,pred_train))\n",
    "\n",
    "pred = model.predict(X_test)\n",
    "print(r2_score(y_test,pred))"
   ]
  },
  {
   "cell_type": "markdown",
   "metadata": {
    "pycharm": {
     "name": "#%% md\n"
    }
   },
   "source": [
    "KFold Cross validation"
   ]
  },
  {
   "cell_type": "code",
   "execution_count": null,
   "metadata": {
    "pycharm": {
     "name": "#%%\n"
    }
   },
   "outputs": [],
   "source": [
    "def baseline_model():\n",
    "    model = models.Sequential()\n",
    "    model.add(layers.Dense(16,input_shape=(4,),activation='relu',kernel_initializer='normal'))\n",
    "    model.add(layers.Dropout(0.1))\n",
    "    model.add(layers.Dense(64,activation='relu'))\n",
    "    model.add(layers.Dropout(0.1))\n",
    "    model.add(layers.Dense(1))\n",
    "    # Compile model\n",
    "    model.compile(loss='mean_squared_error', optimizer='Adam')\n",
    "    return model"
   ]
  },
  {
   "cell_type": "markdown",
   "metadata": {
    "pycharm": {
     "name": "#%% md\n"
    }
   },
   "source": [
    "Evaluate Model\n"
   ]
  },
  {
   "cell_type": "code",
   "execution_count": null,
   "metadata": {
    "pycharm": {
     "name": "#%%\n"
    }
   },
   "outputs": [],
   "source": [
    "from keras import models,layers\n",
    "from scikeras.wrappers import KerasRegressor\n",
    "from sklearn.model_selection import cross_validate,cross_val_score\n",
    "from sklearn.model_selection import KFold\n",
    "\n",
    "estimator = KerasRegressor(model=baseline_model, epochs=64, batch_size=16, verbose=0)\n",
    "'''kfold = KFold(n_splits=3,shuffle=True)\n",
    "results = cross_validate(estimator, X, y, cv=kfold, scoring=('r2', 'neg_mean_squared_error'),return_train_score=True)\n",
    "print(results['test_neg_mean_squared_error'])\n",
    "print(\"train_r2_score:\",results['train_r2'])\n",
    "print(\"test_r2_score:\",results['test_r2'])'''\n",
    "for k in range(2,10):\n",
    "    kfold = KFold(n_splits=k,shuffle=True,random_state = 10)\n",
    "    results = cross_validate(estimator, X, y, cv=kfold, scoring=('r2', 'neg_mean_squared_error'),return_train_score=True)\n",
    "    print(\"k = \" + str(k))\n",
    "    print(results['test_neg_mean_squared_error'])\n",
    "    print(\"train_r2_score:\",results['train_r2'])\n",
    "    print(\"test_r2_score:\",results['test_r2'])"
   ]
  },
  {
   "cell_type": "code",
   "execution_count": null,
   "metadata": {
    "pycharm": {
     "name": "#%%\n"
    }
   },
   "outputs": [],
   "source": [
    "estimator.fit(X_train,y_train)\n"
   ]
  },
  {
   "cell_type": "code",
   "execution_count": null,
   "metadata": {
    "pycharm": {
     "name": "#%%\n"
    }
   },
   "outputs": [],
   "source": [
    "pred = estimator.predict(X_test)\n",
    "print(r2_score(y_test,pred))"
   ]
  },
  {
   "cell_type": "code",
   "execution_count": null,
   "metadata": {
    "pycharm": {
     "name": "#%%\n"
    }
   },
   "outputs": [],
   "source": []
  },
  {
   "cell_type": "markdown",
   "metadata": {
    "pycharm": {
     "name": "#%% md\n"
    }
   },
   "source": [
    "LinearRegressionModel"
   ]
  },
  {
   "cell_type": "code",
   "execution_count": 22,
   "metadata": {
    "pycharm": {
     "name": "#%%\n"
    }
   },
   "outputs": [
    {
     "name": "stderr",
     "output_type": "stream",
     "text": [
      "C:\\Users\\kamya\\AppData\\Local\\Temp\\ipykernel_3024\\68290027.py:3: SettingWithCopyWarning: \n",
      "A value is trying to be set on a copy of a slice from a DataFrame\n",
      "\n",
      "See the caveats in the documentation: https://pandas.pydata.org/pandas-docs/stable/user_guide/indexing.html#returning-a-view-versus-a-copy\n",
      "  dataSt.dropna(inplace=True)\n",
      "C:\\Users\\kamya\\AppData\\Local\\Temp\\ipykernel_3024\\68290027.py:4: SettingWithCopyWarning: \n",
      "A value is trying to be set on a copy of a slice from a DataFrame.\n",
      "Try using .loc[row_indexer,col_indexer] = value instead\n",
      "\n",
      "See the caveats in the documentation: https://pandas.pydata.org/pandas-docs/stable/user_guide/indexing.html#returning-a-view-versus-a-copy\n",
      "  dataSt['Apeak/A479'] = dataSt['MaxPeakAbs'] / data['479']\n"
     ]
    },
    {
     "data": {
      "text/html": [
       "<div>\n",
       "<style scoped>\n",
       "    .dataframe tbody tr th:only-of-type {\n",
       "        vertical-align: middle;\n",
       "    }\n",
       "\n",
       "    .dataframe tbody tr th {\n",
       "        vertical-align: top;\n",
       "    }\n",
       "\n",
       "    .dataframe thead th {\n",
       "        text-align: right;\n",
       "    }\n",
       "</style>\n",
       "<table border=\"1\" class=\"dataframe\">\n",
       "  <thead>\n",
       "    <tr style=\"text-align: right;\">\n",
       "      <th></th>\n",
       "      <th>MaxWaveLength</th>\n",
       "      <th>MaxPeakAbs</th>\n",
       "      <th>time</th>\n",
       "      <th>Integral</th>\n",
       "      <th>-logc</th>\n",
       "      <th>Apeak/A479</th>\n",
       "    </tr>\n",
       "  </thead>\n",
       "  <tbody>\n",
       "    <tr>\n",
       "      <th>0</th>\n",
       "      <td>573</td>\n",
       "      <td>0.849</td>\n",
       "      <td>3</td>\n",
       "      <td>371.98</td>\n",
       "      <td>5.301030</td>\n",
       "      <td>1.250368</td>\n",
       "    </tr>\n",
       "    <tr>\n",
       "      <th>1</th>\n",
       "      <td>695</td>\n",
       "      <td>0.832</td>\n",
       "      <td>3</td>\n",
       "      <td>425.36</td>\n",
       "      <td>5.000000</td>\n",
       "      <td>1.410169</td>\n",
       "    </tr>\n",
       "    <tr>\n",
       "      <th>2</th>\n",
       "      <td>753</td>\n",
       "      <td>0.796</td>\n",
       "      <td>3</td>\n",
       "      <td>421.06</td>\n",
       "      <td>4.823909</td>\n",
       "      <td>1.421429</td>\n",
       "    </tr>\n",
       "    <tr>\n",
       "      <th>3</th>\n",
       "      <td>757</td>\n",
       "      <td>0.799</td>\n",
       "      <td>3</td>\n",
       "      <td>417.11</td>\n",
       "      <td>4.698970</td>\n",
       "      <td>1.450091</td>\n",
       "    </tr>\n",
       "    <tr>\n",
       "      <th>4</th>\n",
       "      <td>754</td>\n",
       "      <td>0.825</td>\n",
       "      <td>3</td>\n",
       "      <td>425.77</td>\n",
       "      <td>4.602060</td>\n",
       "      <td>1.478495</td>\n",
       "    </tr>\n",
       "    <tr>\n",
       "      <th>...</th>\n",
       "      <td>...</td>\n",
       "      <td>...</td>\n",
       "      <td>...</td>\n",
       "      <td>...</td>\n",
       "      <td>...</td>\n",
       "      <td>...</td>\n",
       "    </tr>\n",
       "    <tr>\n",
       "      <th>108</th>\n",
       "      <td>754</td>\n",
       "      <td>0.881</td>\n",
       "      <td>3</td>\n",
       "      <td>409.93</td>\n",
       "      <td>4.096910</td>\n",
       "      <td>1.776210</td>\n",
       "    </tr>\n",
       "    <tr>\n",
       "      <th>109</th>\n",
       "      <td>746</td>\n",
       "      <td>0.877</td>\n",
       "      <td>3</td>\n",
       "      <td>410.57</td>\n",
       "      <td>4.070581</td>\n",
       "      <td>1.733202</td>\n",
       "    </tr>\n",
       "    <tr>\n",
       "      <th>110</th>\n",
       "      <td>749</td>\n",
       "      <td>0.891</td>\n",
       "      <td>3</td>\n",
       "      <td>412.83</td>\n",
       "      <td>4.045757</td>\n",
       "      <td>1.778443</td>\n",
       "    </tr>\n",
       "    <tr>\n",
       "      <th>111</th>\n",
       "      <td>748</td>\n",
       "      <td>0.893</td>\n",
       "      <td>3</td>\n",
       "      <td>413.37</td>\n",
       "      <td>4.022276</td>\n",
       "      <td>1.764822</td>\n",
       "    </tr>\n",
       "    <tr>\n",
       "      <th>112</th>\n",
       "      <td>752</td>\n",
       "      <td>0.846</td>\n",
       "      <td>3</td>\n",
       "      <td>401.54</td>\n",
       "      <td>4.000000</td>\n",
       "      <td>1.723014</td>\n",
       "    </tr>\n",
       "  </tbody>\n",
       "</table>\n",
       "<p>113 rows × 6 columns</p>\n",
       "</div>"
      ],
      "text/plain": [
       "     MaxWaveLength  MaxPeakAbs  time  Integral     -logc  Apeak/A479\n",
       "0              573       0.849     3    371.98  5.301030    1.250368\n",
       "1              695       0.832     3    425.36  5.000000    1.410169\n",
       "2              753       0.796     3    421.06  4.823909    1.421429\n",
       "3              757       0.799     3    417.11  4.698970    1.450091\n",
       "4              754       0.825     3    425.77  4.602060    1.478495\n",
       "..             ...         ...   ...       ...       ...         ...\n",
       "108            754       0.881     3    409.93  4.096910    1.776210\n",
       "109            746       0.877     3    410.57  4.070581    1.733202\n",
       "110            749       0.891     3    412.83  4.045757    1.778443\n",
       "111            748       0.893     3    413.37  4.022276    1.764822\n",
       "112            752       0.846     3    401.54  4.000000    1.723014\n",
       "\n",
       "[113 rows x 6 columns]"
      ]
     },
     "execution_count": 22,
     "metadata": {},
     "output_type": "execute_result"
    }
   ],
   "source": [
    "data = pd.read_csv('data.csv')\n",
    "dataSt = data[['MaxWaveLength','MaxPeakAbs','time','Integral','-logc']]\n",
    "dataSt.dropna(inplace=True)\n",
    "dataSt['Apeak/A479'] = dataSt['MaxPeakAbs'] / data['479']\n",
    "dataSt"
   ]
  },
  {
   "cell_type": "code",
   "execution_count": 23,
   "metadata": {
    "pycharm": {
     "name": "#%%\n"
    }
   },
   "outputs": [
    {
     "data": {
      "text/html": [
       "<div>\n",
       "<style scoped>\n",
       "    .dataframe tbody tr th:only-of-type {\n",
       "        vertical-align: middle;\n",
       "    }\n",
       "\n",
       "    .dataframe tbody tr th {\n",
       "        vertical-align: top;\n",
       "    }\n",
       "\n",
       "    .dataframe thead th {\n",
       "        text-align: right;\n",
       "    }\n",
       "</style>\n",
       "<table border=\"1\" class=\"dataframe\">\n",
       "  <thead>\n",
       "    <tr style=\"text-align: right;\">\n",
       "      <th></th>\n",
       "      <th>MaxWaveLength</th>\n",
       "      <th>time</th>\n",
       "      <th>Integral</th>\n",
       "      <th>Apeak/A479</th>\n",
       "    </tr>\n",
       "  </thead>\n",
       "  <tbody>\n",
       "    <tr>\n",
       "      <th>0</th>\n",
       "      <td>573</td>\n",
       "      <td>3</td>\n",
       "      <td>371.98</td>\n",
       "      <td>1.250368</td>\n",
       "    </tr>\n",
       "    <tr>\n",
       "      <th>1</th>\n",
       "      <td>695</td>\n",
       "      <td>3</td>\n",
       "      <td>425.36</td>\n",
       "      <td>1.410169</td>\n",
       "    </tr>\n",
       "    <tr>\n",
       "      <th>2</th>\n",
       "      <td>753</td>\n",
       "      <td>3</td>\n",
       "      <td>421.06</td>\n",
       "      <td>1.421429</td>\n",
       "    </tr>\n",
       "    <tr>\n",
       "      <th>3</th>\n",
       "      <td>757</td>\n",
       "      <td>3</td>\n",
       "      <td>417.11</td>\n",
       "      <td>1.450091</td>\n",
       "    </tr>\n",
       "    <tr>\n",
       "      <th>4</th>\n",
       "      <td>754</td>\n",
       "      <td>3</td>\n",
       "      <td>425.77</td>\n",
       "      <td>1.478495</td>\n",
       "    </tr>\n",
       "    <tr>\n",
       "      <th>...</th>\n",
       "      <td>...</td>\n",
       "      <td>...</td>\n",
       "      <td>...</td>\n",
       "      <td>...</td>\n",
       "    </tr>\n",
       "    <tr>\n",
       "      <th>90</th>\n",
       "      <td>769</td>\n",
       "      <td>3</td>\n",
       "      <td>441.06</td>\n",
       "      <td>1.840156</td>\n",
       "    </tr>\n",
       "    <tr>\n",
       "      <th>91</th>\n",
       "      <td>765</td>\n",
       "      <td>3</td>\n",
       "      <td>435.63</td>\n",
       "      <td>1.884462</td>\n",
       "    </tr>\n",
       "    <tr>\n",
       "      <th>92</th>\n",
       "      <td>768</td>\n",
       "      <td>3</td>\n",
       "      <td>422.23</td>\n",
       "      <td>1.888660</td>\n",
       "    </tr>\n",
       "    <tr>\n",
       "      <th>93</th>\n",
       "      <td>766</td>\n",
       "      <td>3</td>\n",
       "      <td>426.51</td>\n",
       "      <td>1.917864</td>\n",
       "    </tr>\n",
       "    <tr>\n",
       "      <th>94</th>\n",
       "      <td>763</td>\n",
       "      <td>3</td>\n",
       "      <td>427.56</td>\n",
       "      <td>1.930328</td>\n",
       "    </tr>\n",
       "  </tbody>\n",
       "</table>\n",
       "<p>95 rows × 4 columns</p>\n",
       "</div>"
      ],
      "text/plain": [
       "    MaxWaveLength  time  Integral  Apeak/A479\n",
       "0             573     3    371.98    1.250368\n",
       "1             695     3    425.36    1.410169\n",
       "2             753     3    421.06    1.421429\n",
       "3             757     3    417.11    1.450091\n",
       "4             754     3    425.77    1.478495\n",
       "..            ...   ...       ...         ...\n",
       "90            769     3    441.06    1.840156\n",
       "91            765     3    435.63    1.884462\n",
       "92            768     3    422.23    1.888660\n",
       "93            766     3    426.51    1.917864\n",
       "94            763     3    427.56    1.930328\n",
       "\n",
       "[95 rows x 4 columns]"
      ]
     },
     "execution_count": 23,
     "metadata": {},
     "output_type": "execute_result"
    }
   ],
   "source": [
    "X = dataSt.iloc[:95,[0,2,3,5]]\n",
    "y = dataSt.iloc[:95,4]\n",
    "X"
   ]
  },
  {
   "cell_type": "code",
   "execution_count": 24,
   "metadata": {
    "pycharm": {
     "name": "#%%\n"
    }
   },
   "outputs": [
    {
     "ename": "ValueError",
     "evalue": "cannot reshape array of size 95 into shape (113,1)",
     "output_type": "error",
     "traceback": [
      "\u001b[1;31m---------------------------------------------------------------------------\u001b[0m",
      "\u001b[1;31mValueError\u001b[0m                                Traceback (most recent call last)",
      "Input \u001b[1;32mIn [24]\u001b[0m, in \u001b[0;36m<cell line: 4>\u001b[1;34m()\u001b[0m\n\u001b[0;32m      2\u001b[0m scaler \u001b[38;5;241m=\u001b[39m StandardScaler()\n\u001b[0;32m      3\u001b[0m X \u001b[38;5;241m=\u001b[39m scaler\u001b[38;5;241m.\u001b[39mfit_transform(X)\n\u001b[1;32m----> 4\u001b[0m y \u001b[38;5;241m=\u001b[39m scaler\u001b[38;5;241m.\u001b[39mfit_transform(\u001b[43mnp\u001b[49m\u001b[38;5;241;43m.\u001b[39;49m\u001b[43marray\u001b[49m\u001b[43m(\u001b[49m\u001b[43my\u001b[49m\u001b[43m)\u001b[49m\u001b[38;5;241;43m.\u001b[39;49m\u001b[43mreshape\u001b[49m\u001b[43m(\u001b[49m\u001b[43m(\u001b[49m\u001b[38;5;241;43m113\u001b[39;49m\u001b[43m,\u001b[49m\u001b[38;5;241;43m1\u001b[39;49m\u001b[43m)\u001b[49m\u001b[43m)\u001b[49m)\n",
      "\u001b[1;31mValueError\u001b[0m: cannot reshape array of size 95 into shape (113,1)"
     ]
    }
   ],
   "source": [
    "from sklearn.preprocessing import StandardScaler\n",
    "scaler = StandardScaler()\n",
    "X = scaler.fit_transform(X)\n",
    "y = scaler.fit_transform(np.array(y).reshape((113,1)))"
   ]
  },
  {
   "cell_type": "code",
   "execution_count": 25,
   "metadata": {
    "pycharm": {
     "name": "#%%\n"
    }
   },
   "outputs": [
    {
     "name": "stdout",
     "output_type": "stream",
     "text": [
      "intercept =  4.351036502610527  coef =  [ 0.0519729  -0.08920415 -0.11333626 -0.25923097]\n",
      "                            OLS Regression Results                            \n",
      "==============================================================================\n",
      "Dep. Variable:                  -logc   R-squared:                       0.917\n",
      "Model:                            OLS   Adj. R-squared:                  0.914\n",
      "Method:                 Least Squares   F-statistic:                     249.7\n",
      "Date:                Sun, 23 Oct 2022   Prob (F-statistic):           8.05e-48\n",
      "Time:                        09:49:29   Log-Likelihood:                 94.178\n",
      "No. Observations:                  95   AIC:                            -178.4\n",
      "Df Residuals:                      90   BIC:                            -165.6\n",
      "Df Model:                           4                                         \n",
      "Covariance Type:            nonrobust                                         \n",
      "==============================================================================\n",
      "                 coef    std err          t      P>|t|      [0.025      0.975]\n",
      "------------------------------------------------------------------------------\n",
      "const          4.3510      0.009    459.713      0.000       4.332       4.370\n",
      "x1             0.0520      0.012      4.312      0.000       0.028       0.076\n",
      "x2            -0.0892      0.010     -8.517      0.000      -0.110      -0.068\n",
      "x3            -0.1133      0.013     -8.412      0.000      -0.140      -0.087\n",
      "x4            -0.2592      0.014    -19.124      0.000      -0.286      -0.232\n",
      "==============================================================================\n",
      "Omnibus:                       37.722   Durbin-Watson:                   1.054\n",
      "Prob(Omnibus):                  0.000   Jarque-Bera (JB):               85.395\n",
      "Skew:                           1.484   Prob(JB):                     2.86e-19\n",
      "Kurtosis:                       6.572   Cond. No.                         2.77\n",
      "==============================================================================\n",
      "\n",
      "Notes:\n",
      "[1] Standard Errors assume that the covariance matrix of the errors is correctly specified.\n"
     ]
    }
   ],
   "source": [
    "from sklearn.linear_model import LinearRegression\n",
    "lr = LinearRegression()\n",
    "lr.fit(X,y)\n",
    "print(\"intercept = \",lr.intercept_,\" coef = \",lr.coef_)\n",
    "X2 = sm.add_constant(X)\n",
    "mod = sm.OLS(y,X2)\n",
    "fii = mod.fit()\n",
    "print(fii.summary())"
   ]
  },
  {
   "cell_type": "code",
   "execution_count": 20,
   "metadata": {
    "pycharm": {
     "name": "#%%\n"
    }
   },
   "outputs": [
    {
     "name": "stdout",
     "output_type": "stream",
     "text": [
      "intercept =  4.351036502610527  coef =  [ 0.0519729  -0.08920415 -0.11333626 -0.25923097]\n",
      "                                 OLS Regression Results                                \n",
      "=======================================================================================\n",
      "Dep. Variable:                  -logc   R-squared (uncentered):                   0.005\n",
      "Model:                            OLS   Adj. R-squared (uncentered):             -0.039\n",
      "Method:                 Least Squares   F-statistic:                             0.1075\n",
      "Date:                Sun, 23 Oct 2022   Prob (F-statistic):                       0.980\n",
      "Time:                        09:49:19   Log-Likelihood:                         -274.51\n",
      "No. Observations:                  95   AIC:                                      557.0\n",
      "Df Residuals:                      91   BIC:                                      567.2\n",
      "Df Model:                           4                                                  \n",
      "Covariance Type:            nonrobust                                                  \n",
      "==============================================================================\n",
      "                 coef    std err          t      P>|t|      [0.025      0.975]\n",
      "------------------------------------------------------------------------------\n",
      "x1             0.0520      0.581      0.089      0.929      -1.102       1.206\n",
      "x2            -0.0892      0.505     -0.177      0.860      -1.092       0.914\n",
      "x3            -0.1133      0.649     -0.175      0.862      -1.403       1.177\n",
      "x4            -0.2592      0.653     -0.397      0.692      -1.557       1.039\n",
      "==============================================================================\n",
      "Omnibus:                       37.722   Durbin-Watson:                   0.000\n",
      "Prob(Omnibus):                  0.000   Jarque-Bera (JB):               85.395\n",
      "Skew:                           1.484   Prob(JB):                     2.86e-19\n",
      "Kurtosis:                       6.572   Cond. No.                         2.77\n",
      "==============================================================================\n",
      "\n",
      "Notes:\n",
      "[1] R² is computed without centering (uncentered) since the model does not contain a constant.\n",
      "[2] Standard Errors assume that the covariance matrix of the errors is correctly specified.\n"
     ]
    }
   ],
   "source": [
    "from sklearn.linear_model import LinearRegression\n",
    "lr = LinearRegression()\n",
    "lr.fit(X,y)\n",
    "print(\"intercept = \",lr.intercept_,\" coef = \",lr.coef_)\n",
    "X2 = sm.add_constant(X)\n",
    "mod = sm.OLS(y,X)\n",
    "fii = mod.fit()\n",
    "print(fii.summary())"
   ]
  },
  {
   "cell_type": "code",
   "execution_count": 21,
   "metadata": {
    "pycharm": {
     "name": "#%%\n"
    }
   },
   "outputs": [
    {
     "name": "stdout",
     "output_type": "stream",
     "text": [
      "0.9173343542901544\n"
     ]
    },
    {
     "ename": "NameError",
     "evalue": "name 'y_test' is not defined",
     "output_type": "error",
     "traceback": [
      "\u001b[1;31m---------------------------------------------------------------------------\u001b[0m",
      "\u001b[1;31mNameError\u001b[0m                                 Traceback (most recent call last)",
      "Input \u001b[1;32mIn [21]\u001b[0m, in \u001b[0;36m<cell line: 5>\u001b[1;34m()\u001b[0m\n\u001b[0;32m      3\u001b[0m r2 \u001b[38;5;241m=\u001b[39m r2_score(y,y_pred)\n\u001b[0;32m      4\u001b[0m \u001b[38;5;28mprint\u001b[39m(r2)\n\u001b[1;32m----> 5\u001b[0m \u001b[38;5;28mprint\u001b[39m(\u001b[43my_test\u001b[49m)\n",
      "\u001b[1;31mNameError\u001b[0m: name 'y_test' is not defined"
     ]
    }
   ],
   "source": [
    "from sklearn.metrics import r2_score\n",
    "y_pred = lr.predict(X)\n",
    "r2 = r2_score(y,y_pred)\n",
    "print(r2)\n",
    "print(y_test)"
   ]
  },
  {
   "cell_type": "code",
   "execution_count": null,
   "metadata": {
    "pycharm": {
     "name": "#%%\n"
    }
   },
   "outputs": [],
   "source": []
  }
 ],
 "metadata": {
  "kernelspec": {
   "display_name": "Python 3 (ipykernel)",
   "language": "python",
   "name": "python3"
  },
  "language_info": {
   "codemirror_mode": {
    "name": "ipython",
    "version": 3
   },
   "file_extension": ".py",
   "mimetype": "text/x-python",
   "name": "python",
   "nbconvert_exporter": "python",
   "pygments_lexer": "ipython3",
   "version": "3.9.12"
  }
 },
 "nbformat": 4,
 "nbformat_minor": 1
}
